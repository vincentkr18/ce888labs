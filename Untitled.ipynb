{
 "cells": [
  {
   "cell_type": "code",
   "execution_count": 4,
   "metadata": {},
   "outputs": [
    {
     "data": {
      "text/plain": [
       "[1, 2, 3]"
      ]
     },
     "execution_count": 4,
     "metadata": {},
     "output_type": "execute_result"
    }
   ],
   "source": [
    "matrixA = [[1, 2, 3], [1, 2, 3]]\n",
    "matrixA[0]"
   ]
  },
  {
   "cell_type": "code",
   "execution_count": 5,
   "metadata": {},
   "outputs": [
    {
     "ename": "SyntaxError",
     "evalue": "unexpected EOF while parsing (<ipython-input-5-c20e4abada09>, line 2)",
     "output_type": "error",
     "traceback": [
      "\u001b[1;36m  File \u001b[1;32m\"<ipython-input-5-c20e4abada09>\"\u001b[1;36m, line \u001b[1;32m2\u001b[0m\n\u001b[1;33m    total += matrix2[j] * matrix1[j][i\u001b[0m\n\u001b[1;37m                                      ^\u001b[0m\n\u001b[1;31mSyntaxError\u001b[0m\u001b[1;31m:\u001b[0m unexpected EOF while parsing\n"
     ]
    }
   ],
   "source": [
    "matrixC = [[8, 9], [8, 9], [8, 9], [8, 9]]\n",
    "total += matrix2[j] * matrix1[j][i"
   ]
  },
  {
   "cell_type": "code",
   "execution_count": 7,
   "metadata": {},
   "outputs": [
    {
     "data": {
      "text/plain": [
       "4"
      ]
     },
     "execution_count": 7,
     "metadata": {},
     "output_type": "execute_result"
    }
   ],
   "source": [
    "matrixC = [[8, 9], [8, 9], [8, 9], [8, 9]]\n",
    "len(matrixC)"
   ]
  },
  {
   "cell_type": "code",
   "execution_count": 8,
   "metadata": {},
   "outputs": [],
   "source": [
    "matrixA = [[1, 2, 3], [1, 2, 3]]\n",
    "matrixB = [[5, 6, 7], [5, 6, 7], [5, 6, 7]]"
   ]
  },
  {
   "cell_type": "code",
   "execution_count": 17,
   "metadata": {},
   "outputs": [
    {
     "name": "stdout",
     "output_type": "stream",
     "text": [
      "0 1\n",
      "1 1 1\n",
      "1 1 2\n",
      "1 1 3\n",
      "0 2\n",
      "2 2 2\n",
      "2 2 4\n",
      "2 2 6\n",
      "0 3\n",
      "3 3 3\n",
      "3 3 6\n",
      "3 3 9\n",
      "1 1\n",
      "1 1 1\n",
      "1 1 2\n",
      "1 1 3\n",
      "1 2\n",
      "2 2 2\n",
      "2 2 4\n",
      "2 2 6\n",
      "1 3\n",
      "3 3 3\n",
      "3 3 6\n",
      "3 3 9\n"
     ]
    }
   ],
   "source": [
    "\n",
    "result = []\n",
    "for a in range(len(matrixA)):\n",
    "    for i in (matrixA[a]): #this loops through columns of the matrix\n",
    "        print(a,i)\n",
    "        for j in (matrixA[a]):\n",
    "            print( i,i ,i*j )\n",
    "#        total = 0\n",
    "#        for j in range(len(matrixB[a])): #this loops through vector coordinates & rows of matrix\n",
    " #              total += matrixB[j] * matrixA[j][i]\n",
    "#result.append(total)\n",
    "\n",
    " #      return multipl_result#"
   ]
  },
  {
   "cell_type": "code",
   "execution_count": 15,
   "metadata": {},
   "outputs": [
    {
     "data": {
      "text/plain": [
       "[1, 2, 3]"
      ]
     },
     "execution_count": 15,
     "metadata": {},
     "output_type": "execute_result"
    }
   ],
   "source": [
    "matrixA[0]"
   ]
  },
  {
   "cell_type": "code",
   "execution_count": 19,
   "metadata": {},
   "outputs": [
    {
     "name": "stdout",
     "output_type": "stream",
     "text": [
      "[30, 36, 42, 0]\n",
      "[30, 36, 42, 0]\n",
      "[0, 0, 0, 0]\n"
     ]
    }
   ],
   "source": [
    "result = [[0,0,0,0],\n",
    "         [0,0,0,0],\n",
    "         [0,0,0,0]]\n",
    "\n",
    "for i in range(len(matrixA)):\n",
    "   # iterate through columns of Y\n",
    "   for j in range(len(matrixB[0])):\n",
    "       # iterate through rows of Y\n",
    "       for k in range(len(matrixB)):\n",
    "           result[i][j] += matrixA[i][k] * matrixB[k][j]\n",
    "\n",
    "for r in result:\n",
    "   print(r)"
   ]
  },
  {
   "cell_type": "code",
   "execution_count": 29,
   "metadata": {},
   "outputs": [],
   "source": [
    "rows = len(matrixC[0])"
   ]
  },
  {
   "cell_type": "code",
   "execution_count": 30,
   "metadata": {},
   "outputs": [
    {
     "data": {
      "text/plain": [
       "2"
      ]
     },
     "execution_count": 30,
     "metadata": {},
     "output_type": "execute_result"
    }
   ],
   "source": [
    "rows"
   ]
  },
  {
   "cell_type": "code",
   "execution_count": 35,
   "metadata": {},
   "outputs": [],
   "source": [
    "#matrixA.dot(matrixB)\n",
    "import numpy as np"
   ]
  },
  {
   "cell_type": "code",
   "execution_count": 36,
   "metadata": {},
   "outputs": [
    {
     "name": "stdout",
     "output_type": "stream",
     "text": [
      "[]\n"
     ]
    }
   ],
   "source": [
    "frame = np.random.randn(0,543,100,5).astype('float32')\n",
    "print(frame)"
   ]
  },
  {
   "cell_type": "code",
   "execution_count": null,
   "metadata": {},
   "outputs": [],
   "source": []
  }
 ],
 "metadata": {
  "kernelspec": {
   "display_name": "Python 3",
   "language": "python",
   "name": "python3"
  },
  "language_info": {
   "codemirror_mode": {
    "name": "ipython",
    "version": 3
   },
   "file_extension": ".py",
   "mimetype": "text/x-python",
   "name": "python",
   "nbconvert_exporter": "python",
   "pygments_lexer": "ipython3",
   "version": "3.6.5"
  }
 },
 "nbformat": 4,
 "nbformat_minor": 2
}
